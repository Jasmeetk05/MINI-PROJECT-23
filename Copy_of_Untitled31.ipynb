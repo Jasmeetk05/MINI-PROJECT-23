{
  "nbformat": 4,
  "nbformat_minor": 0,
  "metadata": {
    "colab": {
      "provenance": [],
      "authorship_tag": "ABX9TyNqzG48AZFf5mK7DHPfNH0o",
      "include_colab_link": true
    },
    "kernelspec": {
      "name": "python3",
      "display_name": "Python 3"
    },
    "language_info": {
      "name": "python"
    }
  },
  "cells": [
    {
      "cell_type": "markdown",
      "metadata": {
        "id": "view-in-github",
        "colab_type": "text"
      },
      "source": [
        "<a href=\"https://colab.research.google.com/github/Jasmeetk05/MINI-PROJECT-23/blob/main/Copy_of_Untitled31.ipynb\" target=\"_parent\"><img src=\"https://colab.research.google.com/assets/colab-badge.svg\" alt=\"Open In Colab\"/></a>"
      ]
    },
    {
      "cell_type": "code",
      "execution_count": null,
      "metadata": {
        "colab": {
          "base_uri": "https://localhost:8080/"
        },
        "id": "u-BCa2q3KAYY",
        "outputId": "54b8b918-ad4d-4791-c8ba-929bb0f90998"
      },
      "outputs": [
        {
          "output_type": "stream",
          "name": "stdout",
          "text": [
            "Requirement already satisfied: opencv-python in /usr/local/lib/python3.11/dist-packages (4.11.0.86)\n",
            "Requirement already satisfied: numpy>=1.21.2 in /usr/local/lib/python3.11/dist-packages (from opencv-python) (2.0.2)\n"
          ]
        }
      ],
      "source": [
        "pip install opencv-python\n"
      ]
    },
    {
      "cell_type": "code",
      "source": [
        "pip install icrawler\n"
      ],
      "metadata": {
        "colab": {
          "base_uri": "https://localhost:8080/"
        },
        "id": "tQ4ZSNn7N11c",
        "outputId": "64950038-2a1a-46a5-8768-6ea46bda8757"
      },
      "execution_count": null,
      "outputs": [
        {
          "output_type": "stream",
          "name": "stdout",
          "text": [
            "Collecting icrawler\n",
            "  Downloading icrawler-0.6.10-py3-none-any.whl.metadata (6.2 kB)\n",
            "Requirement already satisfied: beautifulsoup4 in /usr/local/lib/python3.11/dist-packages (from icrawler) (4.13.4)\n",
            "Collecting bs4 (from icrawler)\n",
            "  Downloading bs4-0.0.2-py2.py3-none-any.whl.metadata (411 bytes)\n",
            "Requirement already satisfied: lxml in /usr/local/lib/python3.11/dist-packages (from icrawler) (5.4.0)\n",
            "Requirement already satisfied: pillow in /usr/local/lib/python3.11/dist-packages (from icrawler) (11.2.1)\n",
            "Requirement already satisfied: pyyaml in /usr/local/lib/python3.11/dist-packages (from icrawler) (6.0.2)\n",
            "Requirement already satisfied: requests in /usr/local/lib/python3.11/dist-packages (from icrawler) (2.32.3)\n",
            "Requirement already satisfied: six in /usr/local/lib/python3.11/dist-packages (from icrawler) (1.17.0)\n",
            "Requirement already satisfied: soupsieve>1.2 in /usr/local/lib/python3.11/dist-packages (from beautifulsoup4->icrawler) (2.7)\n",
            "Requirement already satisfied: typing-extensions>=4.0.0 in /usr/local/lib/python3.11/dist-packages (from beautifulsoup4->icrawler) (4.14.1)\n",
            "Requirement already satisfied: charset-normalizer<4,>=2 in /usr/local/lib/python3.11/dist-packages (from requests->icrawler) (3.4.2)\n",
            "Requirement already satisfied: idna<4,>=2.5 in /usr/local/lib/python3.11/dist-packages (from requests->icrawler) (3.10)\n",
            "Requirement already satisfied: urllib3<3,>=1.21.1 in /usr/local/lib/python3.11/dist-packages (from requests->icrawler) (2.4.0)\n",
            "Requirement already satisfied: certifi>=2017.4.17 in /usr/local/lib/python3.11/dist-packages (from requests->icrawler) (2025.7.14)\n",
            "Downloading icrawler-0.6.10-py3-none-any.whl (36 kB)\n",
            "Downloading bs4-0.0.2-py2.py3-none-any.whl (1.2 kB)\n",
            "Installing collected packages: bs4, icrawler\n",
            "Successfully installed bs4-0.0.2 icrawler-0.6.10\n"
          ]
        }
      ]
    },
    {
      "cell_type": "code",
      "source": [
        "from icrawler.builtin import GoogleImageCrawler\n",
        "import os\n",
        "\n",
        "# Create directory named 'Input Images'\n",
        "output_dir = \"Input Images\"\n",
        "os.makedirs(output_dir, exist_ok=True)\n",
        "\n",
        "# Set up GoogleImageCrawler\n",
        "google_crawler = GoogleImageCrawler(storage={'root_dir': output_dir})\n",
        "\n",
        "# Replace the keyword below with your own search term\n",
        "google_crawler.crawl(keyword='puppies', max_num=100, file_idx_offset=0)\n"
      ],
      "metadata": {
        "colab": {
          "base_uri": "https://localhost:8080/"
        },
        "id": "66SStVDcN4xO",
        "outputId": "77a2c826-8e7c-4540-df1e-75c6188b0e20"
      },
      "execution_count": null,
      "outputs": [
        {
          "output_type": "stream",
          "name": "stderr",
          "text": [
            "ERROR:downloader:Response status code 404, file https://www.eastvalleyanimal.com/wp-content/smush-webp/2020/07/what-age-should-you-adopt-a-puppy-1080x675.jpg\n",
            "ERROR:downloader:Response status code 403, file https://www.vetstreet.com/wp-content/uploads/2024/05/shutterstock_2010277379.jpg\n",
            "ERROR:downloader:Response status code 404, file https://www.petassure.com/petassure/file-streams/page/nAk0IIkia4IAggZg00k0p1caring-for-those-new-puppies.jpg\n",
            "ERROR:downloader:Response status code 404, file http://yourpetdentist.com/wp-content/smush-webp/2023/09/bharathi-kannan-rfL-thiRzDs-unsplash.jpg\n",
            "ERROR:downloader:Response status code 403, file https://preview.redd.it/6-puppies-in-need-of-a-home-v0-ewqleilmidze1.jpg\n",
            "ERROR:downloader:Response status code 403, file https://jetpetresort.com/wp-content/uploads/2021/12/When-Can-My-Puppy-Go-Outside.jpg\n",
            "ERROR:downloader:Response status code 403, file https://centralparkpuppies.com/wp-content/themes/central-park-puppies-child/img/png\n",
            "ERROR:downloader:Response status code 403, file https://stories.tamu.edu/wp-content/uploads/2023/05/puppy-socialization.jpg\n",
            "ERROR:downloader:Exception caught when downloading file https://canine.org/wp-content/uploads/2025/03/717090613-cc25-puppy-week-desktop-wallpapers_0002_background-3.jpg, error: HTTPSConnectionPool(host='canine.org', port=443): Max retries exceeded with url: /wp-content/uploads/2025/03/717090613-cc25-puppy-week-desktop-wallpapers_0002_background-3.jpg (Caused by SSLError(SSLCertVerificationError(1, '[SSL: CERTIFICATE_VERIFY_FAILED] certificate verify failed: unable to get local issuer certificate (_ssl.c:1016)'))), remaining retry times: 2\n",
            "ERROR:downloader:Exception caught when downloading file https://canine.org/wp-content/uploads/2025/03/717090613-cc25-puppy-week-desktop-wallpapers_0002_background-3.jpg, error: HTTPSConnectionPool(host='canine.org', port=443): Max retries exceeded with url: /wp-content/uploads/2025/03/717090613-cc25-puppy-week-desktop-wallpapers_0002_background-3.jpg (Caused by SSLError(SSLCertVerificationError(1, '[SSL: CERTIFICATE_VERIFY_FAILED] certificate verify failed: unable to get local issuer certificate (_ssl.c:1016)'))), remaining retry times: 1\n",
            "ERROR:downloader:Exception caught when downloading file https://canine.org/wp-content/uploads/2025/03/717090613-cc25-puppy-week-desktop-wallpapers_0002_background-3.jpg, error: HTTPSConnectionPool(host='canine.org', port=443): Max retries exceeded with url: /wp-content/uploads/2025/03/717090613-cc25-puppy-week-desktop-wallpapers_0002_background-3.jpg (Caused by SSLError(SSLCertVerificationError(1, '[SSL: CERTIFICATE_VERIFY_FAILED] certificate verify failed: unable to get local issuer certificate (_ssl.c:1016)'))), remaining retry times: 0\n",
            "ERROR:downloader:Response status code 404, file https://www.bluecross.org.uk/sites/default/files/d8/styles/theme_feature_extra_large/public/assets/images/puppy%20and%20child.jpg\n",
            "ERROR:downloader:Response status code 403, file https://www.pedigree.in/files/styles/webp/public/2023-09/Puppy-Nutrition-Image-list.png\n",
            "ERROR:downloader:Response status code 405, file https://cdn.charlottedogclub.com/wp-content/uploads/2025/04/IMG_8291_jpg\n",
            "ERROR:downloader:Response status code 403, file https://pawsinwork.imgix.net/images/The-puppies-welfare-option-2.webp?auto=compress%2Cformat&fit=max&fm=jpg\n"
          ]
        }
      ]
    },
    {
      "cell_type": "code",
      "source": [
        "import cv2\n",
        "import os\n",
        "\n",
        "input_dir = 'Input Images' # Corrected directory name\n",
        "output_dir = 'output_images'\n",
        "\n",
        "# Check if input directory exists\n",
        "if not os.path.exists(input_dir):\n",
        "    raise FileNotFoundError(f\"Input folder '{input_dir}' does not exist. Please create it and add images.\")\n",
        "\n",
        "# Create output folder if not present\n",
        "os.makedirs(output_dir, exist_ok=True)\n",
        "\n",
        "# Get image files\n",
        "image_files = [f for f in os.listdir(input_dir) if f.lower().endswith(('.png', '.jpg', '.jpeg'))]\n",
        "image_files = image_files[:100]\n",
        "\n",
        "# Convert and save\n",
        "for i, filename in enumerate(image_files, 1):\n",
        "    img_path = os.path.join(input_dir, filename)\n",
        "    img = cv2.imread(img_path)\n",
        "\n",
        "    if img is None:\n",
        "        print(f\"[{i}] Skipping unreadable file: {filename}\")\n",
        "        continue\n",
        "\n",
        "    gray = cv2.cvtColor(img, cv2.COLOR_BGR2GRAY)\n",
        "    output_path = os.path.join(output_dir, filename)\n",
        "    cv2.imwrite(output_path, gray)\n",
        "\n",
        "    print(f\"[{i}] Converted and saved: {filename}\")\n",
        "\n",
        "print(\"✅ All images processed.\")"
      ],
      "metadata": {
        "colab": {
          "base_uri": "https://localhost:8080/"
        },
        "id": "xcZZMtipOJHj",
        "outputId": "031af90f-860b-4c84-bfcc-012dc20d710d"
      },
      "execution_count": null,
      "outputs": [
        {
          "output_type": "stream",
          "name": "stdout",
          "text": [
            "[1] Converted and saved: 000011.jpg\n",
            "[2] Converted and saved: 000057.jpg\n",
            "[3] Converted and saved: 000048.png\n",
            "[4] Converted and saved: 000058.jpg\n",
            "[5] Converted and saved: 000046.jpg\n",
            "[6] Converted and saved: 000022.jpg\n",
            "[7] Converted and saved: 000039.jpg\n",
            "[8] Converted and saved: 000023.jpg\n",
            "[9] Converted and saved: 000044.jpg\n",
            "[10] Converted and saved: 000019.jpg\n",
            "[11] Converted and saved: 000028.jpg\n",
            "[12] Converted and saved: 000009.jpg\n",
            "[13] Converted and saved: 000049.jpg\n",
            "[14] Converted and saved: 000021.jpg\n",
            "[15] Converted and saved: 000026.jpg\n",
            "[16] Converted and saved: 000005.jpg\n",
            "[17] Converted and saved: 000031.jpg\n",
            "[18] Converted and saved: 000015.jpg\n",
            "[19] Converted and saved: 000007.jpg\n",
            "[20] Converted and saved: 000054.jpg\n",
            "[21] Converted and saved: 000024.jpg\n",
            "[22] Converted and saved: 000030.jpg\n",
            "[23] Converted and saved: 000037.jpg\n",
            "[24] Converted and saved: 000035.jpg\n",
            "[25] Converted and saved: 000045.jpg\n",
            "[26] Converted and saved: 000043.jpg\n",
            "[27] Converted and saved: 000006.jpg\n",
            "[28] Converted and saved: 000056.jpg\n",
            "[29] Converted and saved: 000001.jpg\n",
            "[30] Converted and saved: 000040.jpg\n",
            "[31] Converted and saved: 000029.jpg\n",
            "[32] Converted and saved: 000053.jpg\n",
            "[33] Converted and saved: 000060.jpg\n",
            "[34] Converted and saved: 000055.jpg\n",
            "[35] Converted and saved: 000036.jpg\n",
            "[36] Converted and saved: 000002.jpg\n",
            "[37] Converted and saved: 000013.png\n",
            "[38] Converted and saved: 000027.jpg\n",
            "[39] Converted and saved: 000017.jpg\n",
            "[40] Converted and saved: 000018.jpg\n",
            "[41] Converted and saved: 000020.jpg\n",
            "[42] Converted and saved: 000004.jpg\n",
            "[43] Converted and saved: 000059.jpg\n",
            "[44] Converted and saved: 000050.jpg\n",
            "[45] Converted and saved: 000008.jpg\n",
            "[46] Converted and saved: 000025.png\n",
            "[47] Converted and saved: 000047.jpg\n",
            "[48] Converted and saved: 000014.jpg\n",
            "[49] Converted and saved: 000033.jpg\n",
            "[50] Converted and saved: 000051.jpg\n",
            "[51] Converted and saved: 000003.jpg\n",
            "[52] Converted and saved: 000038.jpg\n",
            "[53] Converted and saved: 000010.jpg\n",
            "[54] Converted and saved: 000052.jpg\n",
            "[55] Converted and saved: 000016.jpg\n",
            "[56] Converted and saved: 000034.jpg\n",
            "[57] Converted and saved: 000032.jpg\n",
            "[58] Converted and saved: 000041.jpg\n",
            "[59] Converted and saved: 000042.jpg\n",
            "[60] Converted and saved: 000012.jpg\n",
            "✅ All images processed.\n"
          ]
        }
      ]
    }
  ]
}